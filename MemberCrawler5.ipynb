{
 "cells": [
  {
   "cell_type": "markdown",
   "metadata": {},
   "source": [
    "# variables"
   ]
  },
  {
   "cell_type": "code",
   "execution_count": 1,
   "metadata": {
    "collapsed": true
   },
   "outputs": [],
   "source": [
    "import re\n",
    "import json\n",
    "import requests\n",
    "from bs4 import BeautifulSoup\n",
    "\n",
    "headers = json.loads(r'''{\n",
    "    \"Accept\": \"text/html,application/xhtml+xml,application/xml;q=0.9,image/webp,image/apng,*/*;q=0.8\",\n",
    "    \"Accept-Encoding\": \"gzip, deflate\",\n",
    "    \"Accept-Language\": \"en-US,en;q=0.9\",\n",
    "    \"Connection\": \"keep-alive\",\n",
    "    \"Cookie\": \"trctestcookie=ok; trctestcookie=ok; bblastvisit=1517316262; bblastactivity=0; __utmz=60066354.1517316266.1.1.utmcsr=(direct)|utmccn=(direct)|utmcmd=(none); __gads=ID=0150c2db39515748:T=1517316267:S=ALNI_MaDEROky928259c08-Wiv9vdVzIMA; trc_cookie_storage=taboola%2520global%253Auser-id%3D9fb09c65-d038-47cc-aca3-9186c0df7852-tuct1686a87; __utma=60066354.2080145337.1517316266.1519810697.1519820804.11; __utmc=60066354; __utmt=1; __utmb=60066354.123.0.1519822641336\",\n",
    "    \"Host\": \"www.dogforum.com\",\n",
    "    \"Upgrade-Insecure-Requests\": \"1\",\n",
    "    \"User-Agent\": \"Mozilla/5.0 (X11; Linux x86_64) AppleWebKit/537.36 (KHTML, like Gecko) Chrome/64.0.3282.186 Safari/537.36\"\n",
    "}''')"
   ]
  },
  {
   "cell_type": "markdown",
   "metadata": {},
   "source": [
    "## Function"
   ]
  },
  {
   "cell_type": "code",
   "execution_count": 2,
   "metadata": {
    "collapsed": true
   },
   "outputs": [],
   "source": [
    "def getID():\n",
    "    infos = soup.select('strong')\n",
    "    return re.findall('<a href=\"http://www.dogforum.com/members/(.+)/.+ onclick', str(infos))[0]"
   ]
  },
  {
   "cell_type": "code",
   "execution_count": 3,
   "metadata": {
    "collapsed": true
   },
   "outputs": [],
   "source": [
    "def getName():\n",
    "    infos = soup.select('strong')\n",
    "    return re.findall(\"\\t(.+)'s Profile\", infos[0].text)[0]"
   ]
  },
  {
   "cell_type": "code",
   "execution_count": 4,
   "metadata": {
    "collapsed": true
   },
   "outputs": [],
   "source": [
    "def setStatistics():\n",
    "    for info in infos:\n",
    "        if(re.findall('Total Posts: (.+)', info.text)):\n",
    "            totalPosts = int(re.findall('Total Posts: (.+)', info.text)[0].replace(',', ''))\n",
    "        elif(re.findall('Posts Per Day: (.+)', info.text)):\n",
    "            postPerDay = float(\"{0:.2f}\".format(float(re.findall('Posts Per Day: (.+)', info.text)[0])))\n",
    "        elif(re.findall('Join Date: (.+)', info.text)):\n",
    "            joinDate = re.findall('Join Date: (.+)', info.text)[0]\n",
    "        elif(re.findall('Referrals: (.+)', info.text)):\n",
    "            referrals = int(re.findall('Referrals: (.+)', info.text)[0])\n",
    "        elif(re.findall('Last Activity: (.+)', info.text)):\n",
    "            lastActivity = re.findall('Last Activity: (.+)', info.text)[0]\n",
    "            \n",
    "    try:\n",
    "        dataDic['TotalPosts'] = totalPosts\n",
    "        dataDic['PostsPerDay'] = postPerDay\n",
    "        dataDic['JoinDate'] = joinDate\n",
    "        dataDic['Referrals'] = referrals\n",
    "        try:\n",
    "            dataDic['LastActivity'] = lastActivity\n",
    "        except:\n",
    "            print('NO lastActivity field~')\n",
    "    except:\n",
    "        print('setStatistics() ERROR!')"
   ]
  },
  {
   "cell_type": "code",
   "execution_count": 5,
   "metadata": {
    "collapsed": true
   },
   "outputs": [],
   "source": [
    "def setAbout():\n",
    "    try:\n",
    "        about = '<dt class=\"shade\">' + re.findall('<dt class=\"shade\">(.+)</dl>', str(infos))[0]\n",
    "    except:\n",
    "        return\n",
    "    aboutSoup = BeautifulSoup(about, 'lxml')\n",
    "    item = []\n",
    "    value = []\n",
    "    # add data\n",
    "    for i in aboutSoup.select('dt.shade'):\n",
    "        item.append(i.text)\n",
    "    for j in aboutSoup.select('dd'):\n",
    "        value.append(j.text)\n",
    "    # add Signature\n",
    "    item.append('Signature')\n",
    "    try:\n",
    "        value.append(soup.select('dl.list_no_decoration > dd#signature')[0].text.strip())\n",
    "    except:\n",
    "        return\n",
    "    \n",
    "    # iterate it & add it into aboutDic\n",
    "    for i in range(0, len(item)):\n",
    "        dataDic[item[i]] = value[i]"
   ]
  },
  {
   "cell_type": "code",
   "execution_count": 6,
   "metadata": {
    "collapsed": true
   },
   "outputs": [],
   "source": [
    "def setMemberDic(name, ID):\n",
    "    memberDic['content'] = dataDic\n",
    "    memberDic['id'] = ID\n",
    "    memberDic['name'] = name"
   ]
  },
  {
   "cell_type": "markdown",
   "metadata": {},
   "source": [
    "## Use Function\n",
    "- use for loop in urls"
   ]
  },
  {
   "cell_type": "code",
   "execution_count": 44,
   "metadata": {
    "collapsed": true
   },
   "outputs": [],
   "source": [
    "# url = 'http://www.dogforum.com/members/128001/'\n",
    "# url = 'http://www.dogforum.com/members/165089/'\n",
    "url = 'http://www.dogforum.com/members/1/'"
   ]
  },
  {
   "cell_type": "code",
   "execution_count": 45,
   "metadata": {
    "collapsed": true
   },
   "outputs": [],
   "source": [
    "resp = requests.get(url, headers=headers)\n",
    "soup = BeautifulSoup(resp.text, 'lxml')\n",
    "infos = soup.select('ul.list_no_decoration li')\n",
    "dataDic = {}\n",
    "# all data store in here\n",
    "memberDic = {}"
   ]
  },
  {
   "cell_type": "code",
   "execution_count": 7,
   "metadata": {
    "collapsed": true
   },
   "outputs": [],
   "source": [
    "def getMemberDic(url):\n",
    "    ID = getID()\n",
    "    name = getName()\n",
    "    \n",
    "    setStatistics()\n",
    "    setAbout()\n",
    "    setMemberDic(name, ID)\n",
    "    \n",
    "    return memberDic"
   ]
  },
  {
   "cell_type": "code",
   "execution_count": 47,
   "metadata": {},
   "outputs": [
    {
     "name": "stdout",
     "output_type": "stream",
     "text": [
      "NO lastActivity field~\n"
     ]
    },
    {
     "data": {
      "text/plain": [
       "{'content': {'JoinDate': '10-07-2008',\n",
       "  'PostsPerDay': 0.59,\n",
       "  'Referrals': 1,\n",
       "  'TotalPosts': 2027},\n",
       " 'id': '1',\n",
       " 'name': 'Administrator'}"
      ]
     },
     "execution_count": 47,
     "metadata": {},
     "output_type": "execute_result"
    }
   ],
   "source": [
    "getMemberDic(url)"
   ]
  },
  {
   "cell_type": "code",
   "execution_count": 24,
   "metadata": {
    "collapsed": true
   },
   "outputs": [],
   "source": [
    "# svalue = ['JoinDate', 'LastActivity', 'PostsPerDay', 'Referrals', 'TotalPosts']"
   ]
  },
  {
   "cell_type": "markdown",
   "metadata": {},
   "source": [
    "### Function:\n",
    "- connect to rethinkdb\n",
    "- Get links"
   ]
  },
  {
   "cell_type": "code",
   "execution_count": 8,
   "metadata": {},
   "outputs": [],
   "source": [
    "import rethinkdb as r\n",
    "conn = r.connect(db='Dogforum')"
   ]
  },
  {
   "cell_type": "code",
   "execution_count": 9,
   "metadata": {},
   "outputs": [
    {
     "data": {
      "text/plain": [
       "['Breeds',\n",
       " 'DogDetail',\n",
       " 'Dog_Health',\n",
       " 'Food',\n",
       " 'Gear_supplies',\n",
       " 'General_Discussion',\n",
       " 'Grooming',\n",
       " 'Introductions',\n",
       " 'MemberInfos',\n",
       " 'Memorials',\n",
       " 'New_Additions',\n",
       " 'Perform_sports',\n",
       " 'Train_Behavior']"
      ]
     },
     "execution_count": 9,
     "metadata": {},
     "output_type": "execute_result"
    }
   ],
   "source": [
    "tables = r.table_list().run(conn)\n",
    "tables"
   ]
  },
  {
   "cell_type": "code",
   "execution_count": 10,
   "metadata": {
    "collapsed": true
   },
   "outputs": [],
   "source": [
    "combine_url = []"
   ]
  },
  {
   "cell_type": "code",
   "execution_count": 11,
   "metadata": {
    "collapsed": true
   },
   "outputs": [],
   "source": [
    "for table_num in range(0, len(tables)):\n",
    "    cursor = r.table(tables[table_num]).pluck('author_url').distinct().run(conn)\n",
    "    for num in range(0, len(cursor)):\n",
    "        for url in cursor[num].values():\n",
    "            combine_url.append(url)"
   ]
  },
  {
   "cell_type": "code",
   "execution_count": 12,
   "metadata": {},
   "outputs": [
    {
     "data": {
      "text/plain": [
       "37520"
      ]
     },
     "execution_count": 12,
     "metadata": {},
     "output_type": "execute_result"
    }
   ],
   "source": [
    "len(combine_url)"
   ]
  },
  {
   "cell_type": "code",
   "execution_count": 13,
   "metadata": {},
   "outputs": [
    {
     "data": {
      "text/plain": [
       "20504"
      ]
     },
     "execution_count": 13,
     "metadata": {},
     "output_type": "execute_result"
    }
   ],
   "source": [
    "member_url = set(combine_url)\n",
    "len(member_url)"
   ]
  },
  {
   "cell_type": "code",
   "execution_count": 16,
   "metadata": {},
   "outputs": [
    {
     "data": {
      "text/plain": [
       "['http://www.dogforum.com/members/10094/',\n",
       " 'http://www.dogforum.com/members/114706/',\n",
       " 'http://www.dogforum.com/members/187745/',\n",
       " 'http://www.dogforum.com/members/104514/',\n",
       " 'http://www.dogforum.com/members/191417/',\n",
       " 'http://www.dogforum.com/members/11630/']"
      ]
     },
     "execution_count": 16,
     "metadata": {},
     "output_type": "execute_result"
    }
   ],
   "source": [
    "list(member_url)[:6]"
   ]
  },
  {
   "cell_type": "markdown",
   "metadata": {},
   "source": [
    "## Function\n",
    "- store data into Member"
   ]
  },
  {
   "cell_type": "code",
   "execution_count": 15,
   "metadata": {
    "scrolled": true
   },
   "outputs": [
    {
     "name": "stdout",
     "output_type": "stream",
     "text": [
      "NO lastActivity field~\n",
      "NO lastActivity field~\n",
      "NO lastActivity field~\n",
      "http://www.dogforum.com/members/8580/  ERROR!!\n",
      "http://www.dogforum.com/members/161753/  ERROR!!\n",
      "http://www.dogforum.com/members/5366/  ERROR!!\n",
      "http://www.dogforum.com/members/11917/  ERROR!!\n",
      "http://www.dogforum.com/members/3563/  ERROR!!\n",
      "http://www.dogforum.com/members/61642/  ERROR!!\n",
      "http://www.dogforum.com/members/129386/  ERROR!!\n"
     ]
    }
   ],
   "source": [
    "for url in member_url:\n",
    "    resp = requests.get(url, headers=headers)\n",
    "    soup = BeautifulSoup(resp.text, 'lxml')\n",
    "    infos = soup.select('ul.list_no_decoration li')\n",
    "    dataDic = {}\n",
    "    # all data store in here\n",
    "    memberDic = {}\n",
    "    try:\n",
    "        post = getMemberDic(url)\n",
    "        res = r.db('Dogforum').table('MemberInfos').insert(post).run(conn)\n",
    "    except:\n",
    "        print(url + '  ERROR!!')"
   ]
  },
  {
   "cell_type": "markdown",
   "metadata": {
    "collapsed": true
   },
   "source": [
    "- Crawler failed link again"
   ]
  },
  {
   "cell_type": "code",
   "execution_count": 9,
   "metadata": {
    "collapsed": true
   },
   "outputs": [],
   "source": [
    "failedLink = ['http://www.dogforum.com/members/8580/', 'http://www.dogforum.com/members/161753/', 'http://www.dogforum.com/members/5366/', 'http://www.dogforum.com/members/11917/', 'http://www.dogforum.com/members/3563/', 'http://www.dogforum.com/members/61642/', 'http://www.dogforum.com/members/129386/']"
   ]
  },
  {
   "cell_type": "code",
   "execution_count": 10,
   "metadata": {
    "collapsed": true
   },
   "outputs": [],
   "source": [
    "for url in failedLink:\n",
    "    resp = requests.get(url, headers=headers)\n",
    "    soup = BeautifulSoup(resp.text, 'lxml')\n",
    "    infos = soup.select('ul.list_no_decoration li')\n",
    "    dataDic = {}\n",
    "    memberDic = {}\n",
    "    try:\n",
    "        post = getMemberDic(url)\n",
    "        res = r.db('Dogforum').table('MemberInfos').insert(post).run(conn)\n",
    "    except:\n",
    "        print(url + '  ERROR!!')"
   ]
  },
  {
   "cell_type": "markdown",
   "metadata": {},
   "source": [
    "### Json透過以下方法取值"
   ]
  },
  {
   "cell_type": "code",
   "execution_count": 25,
   "metadata": {},
   "outputs": [
    {
     "name": "stdout",
     "output_type": "stream",
     "text": [
      "ID: 165089\n",
      "TotalPosts: 1\n",
      "PostsPerDay: 0.00\n",
      "LastActivity: 08-15-2016 10:05 PM\n",
      "JoinDate: 08-15-2016\n",
      "Referrals: 0\n"
     ]
    }
   ],
   "source": [
    "# 字典列表\n",
    "for k in memberDic[name][0].items():\n",
    "    print(k[0] + \": \" + k[1])"
   ]
  },
  {
   "cell_type": "code",
   "execution_count": 26,
   "metadata": {},
   "outputs": [
    {
     "name": "stdout",
     "output_type": "stream",
     "text": [
      "Biography: Proud owner of a Pembroke Welsh Corgi. :)\n",
      "Location: Los Angeles\n",
      "Signature: Hello\n"
     ]
    }
   ],
   "source": [
    "for k in memberDic[name][1].items():\n",
    "    print(k[0] + \": \" + k[1])"
   ]
  }
 ],
 "metadata": {
  "kernelspec": {
   "display_name": "Python 3",
   "language": "python",
   "name": "python3"
  },
  "language_info": {
   "codemirror_mode": {
    "name": "ipython",
    "version": 3
   },
   "file_extension": ".py",
   "mimetype": "text/x-python",
   "name": "python",
   "nbconvert_exporter": "python",
   "pygments_lexer": "ipython3",
   "version": "3.6.3"
  }
 },
 "nbformat": 4,
 "nbformat_minor": 2
}
