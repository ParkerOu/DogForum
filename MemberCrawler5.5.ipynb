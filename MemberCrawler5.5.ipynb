{
 "cells": [
  {
   "cell_type": "markdown",
   "metadata": {},
   "source": [
    "# variables"
   ]
  },
  {
   "cell_type": "code",
   "execution_count": 1,
   "metadata": {
    "collapsed": true
   },
   "outputs": [],
   "source": [
    "import re\n",
    "import json\n",
    "import requests\n",
    "from bs4 import BeautifulSoup\n",
    "from pymongo import MongoClient\n",
    "\n",
    "headers = json.loads(r'''{\n",
    "    \"Accept\": \"text/html,application/xhtml+xml,application/xml;q=0.9,image/webp,image/apng,*/*;q=0.8\",\n",
    "    \"Accept-Encoding\": \"gzip, deflate\",\n",
    "    \"Accept-Language\": \"en-US,en;q=0.9\",\n",
    "    \"Connection\": \"keep-alive\",\n",
    "    \"Cookie\": \"trctestcookie=ok; trctestcookie=ok; bblastvisit=1517316262; bblastactivity=0; __utmz=60066354.1517316266.1.1.utmcsr=(direct)|utmccn=(direct)|utmcmd=(none); __gads=ID=0150c2db39515748:T=1517316267:S=ALNI_MaDEROky928259c08-Wiv9vdVzIMA; trc_cookie_storage=taboola%2520global%253Auser-id%3D9fb09c65-d038-47cc-aca3-9186c0df7852-tuct1686a87; __utma=60066354.2080145337.1517316266.1519810697.1519820804.11; __utmc=60066354; __utmt=1; __utmb=60066354.123.0.1519822641336\",\n",
    "    \"Host\": \"www.dogforum.com\",\n",
    "    \"Upgrade-Insecure-Requests\": \"1\",\n",
    "    \"User-Agent\": \"Mozilla/5.0 (X11; Linux x86_64) AppleWebKit/537.36 (KHTML, like Gecko) Chrome/64.0.3282.186 Safari/537.36\"\n",
    "}''')"
   ]
  },
  {
   "cell_type": "markdown",
   "metadata": {},
   "source": [
    "## Function"
   ]
  },
  {
   "cell_type": "code",
   "execution_count": 2,
   "metadata": {
    "collapsed": true
   },
   "outputs": [],
   "source": [
    "def getID():\n",
    "    infos = soup.select('strong')\n",
    "    return re.findall('<a href=\"http://www.dogforum.com/members/(.+)/.+ onclick', str(infos))[0]"
   ]
  },
  {
   "cell_type": "code",
   "execution_count": 3,
   "metadata": {
    "collapsed": true
   },
   "outputs": [],
   "source": [
    "def getName():\n",
    "    infos = soup.select('strong')\n",
    "    return re.findall(\"\\t(.+)'s Profile\", infos[0].text)[0]"
   ]
  },
  {
   "cell_type": "code",
   "execution_count": 4,
   "metadata": {
    "collapsed": true
   },
   "outputs": [],
   "source": [
    "def getLevel():\n",
    "    infos = soup.select('meta[name=\"description\"]')\n",
    "    return re.findall('<meta content=\".+ is a (.+) in the Dog Forum.', str(infos[0]))[0]"
   ]
  },
  {
   "cell_type": "code",
   "execution_count": 5,
   "metadata": {
    "collapsed": true
   },
   "outputs": [],
   "source": [
    "def setStatistics():\n",
    "    for info in infos:\n",
    "        if(re.findall('Total Posts: (.+)', info.text)):\n",
    "            totalPosts = int(re.findall('Total Posts: (.+)', info.text)[0].replace(',', ''))\n",
    "        elif(re.findall('Posts Per Day: (.+)', info.text)):\n",
    "            postPerDay = float(\"{0:.2f}\".format(float(re.findall('Posts Per Day: (.+)', info.text)[0])))\n",
    "        elif(re.findall('Join Date: (.+)', info.text)):\n",
    "            joinDate = re.findall('Join Date: (.+)', info.text)[0]\n",
    "        elif(re.findall('Referrals: (.+)', info.text)):\n",
    "            referrals = int(re.findall('Referrals: (.+)', info.text)[0])\n",
    "        elif(re.findall('Last Activity: (.+)', info.text)):\n",
    "            lastActivity = re.findall('Last Activity: (.+)', info.text)[0]\n",
    "            \n",
    "    try:\n",
    "        memberDic['TotalPosts'] = totalPosts\n",
    "        memberDic['PostsPerDay'] = postPerDay\n",
    "        memberDic['JoinDate'] = joinDate\n",
    "        memberDic['Referrals'] = referrals\n",
    "        try:\n",
    "            memberDic['LastActivity'] = lastActivity\n",
    "        except:\n",
    "            memberDic['LastActivity'] = float('NaN')\n",
    "            print('NO lastActivity field~')\n",
    "    except:\n",
    "        print('setStatistics() ERROR!')"
   ]
  },
  {
   "cell_type": "code",
   "execution_count": 6,
   "metadata": {
    "collapsed": true
   },
   "outputs": [],
   "source": [
    "def setAbout():\n",
    "    try:\n",
    "        about = '<dt class=\"shade\">' + re.findall('<dt class=\"shade\">(.+)</dl>', str(infos))[0]\n",
    "    except:\n",
    "        return\n",
    "    aboutSoup = BeautifulSoup(about, 'lxml')\n",
    "    item = []\n",
    "    value = []\n",
    "    # add data\n",
    "    for i in aboutSoup.select('dt.shade'):\n",
    "        item.append(i.text)\n",
    "    for j in aboutSoup.select('dd'):\n",
    "        value.append(j.text)\n",
    "    # add Signature\n",
    "    item.append('Signature')\n",
    "    try:\n",
    "        value.append(soup.select('dl.list_no_decoration > dd#signature')[0].text.strip())\n",
    "    except:\n",
    "        return\n",
    "    \n",
    "    # iterate it & add it into aboutDic\n",
    "    for i in range(0, len(item)):\n",
    "        memberDic[item[i]] = value[i]"
   ]
  },
  {
   "cell_type": "code",
   "execution_count": 7,
   "metadata": {
    "collapsed": true
   },
   "outputs": [],
   "source": [
    "def setMemberDic(name, ID, level):\n",
    "    memberDic['_id'] = ID\n",
    "    memberDic['name'] = name\n",
    "    memberDic['level'] = level"
   ]
  },
  {
   "cell_type": "markdown",
   "metadata": {},
   "source": [
    "## test Function\n",
    "- use for loop in urls"
   ]
  },
  {
   "cell_type": "code",
   "execution_count": 13,
   "metadata": {
    "collapsed": true
   },
   "outputs": [],
   "source": [
    "# url = 'http://www.dogforum.com/members/128001/'\n",
    "url = 'http://www.dogforum.com/members/165089/'\n",
    "# url = 'http://www.dogforum.com/members/1/'"
   ]
  },
  {
   "cell_type": "code",
   "execution_count": 14,
   "metadata": {
    "collapsed": true
   },
   "outputs": [],
   "source": [
    "resp = requests.get(url, headers=headers)\n",
    "soup = BeautifulSoup(resp.text, 'lxml')\n",
    "infos = soup.select('ul.list_no_decoration li')\n",
    "# all data store in here\n",
    "memberDic = {}"
   ]
  },
  {
   "cell_type": "code",
   "execution_count": 8,
   "metadata": {
    "collapsed": true
   },
   "outputs": [],
   "source": [
    "def getMemberDic(url):\n",
    "    ID = getID()\n",
    "    name = getName()\n",
    "    level = getLevel()\n",
    "    \n",
    "    setStatistics()\n",
    "    setAbout()\n",
    "    setMemberDic(name, ID, level)\n",
    "    \n",
    "    return memberDic"
   ]
  },
  {
   "cell_type": "code",
   "execution_count": 16,
   "metadata": {},
   "outputs": [
    {
     "data": {
      "text/plain": [
       "{'Biography': 'Proud owner of a Pembroke Welsh Corgi. :)',\n",
       " 'JoinDate': '08-15-2016',\n",
       " 'LastActivity': '08-15-2016 10:05 PM',\n",
       " 'Location': 'Los Angeles',\n",
       " 'PostsPerDay': 0.0,\n",
       " 'Referrals': 0,\n",
       " 'Signature': 'Hello',\n",
       " 'TotalPosts': 1,\n",
       " '_id': '165089',\n",
       " 'level': 'Junior Member',\n",
       " 'name': 'doggyrich'}"
      ]
     },
     "execution_count": 16,
     "metadata": {},
     "output_type": "execute_result"
    }
   ],
   "source": [
    "getMemberDic(url)"
   ]
  },
  {
   "cell_type": "code",
   "execution_count": 24,
   "metadata": {
    "collapsed": true
   },
   "outputs": [],
   "source": [
    "# svalue = ['JoinDate', 'LastActivity', 'PostsPerDay', 'Referrals', 'TotalPosts']"
   ]
  },
  {
   "cell_type": "markdown",
   "metadata": {},
   "source": [
    "### Function:\n",
    "- connect to mongoDB"
   ]
  },
  {
   "cell_type": "code",
   "execution_count": 10,
   "metadata": {},
   "outputs": [],
   "source": [
    "# 把檔案讀進來\n",
    "urls = []\n",
    "with open('/home/parker/mydir/crawler/DogForum/memberLink.txt') as inputfile:\n",
    "    for line in inputfile:\n",
    "        urls.append(line.strip().split(','))"
   ]
  },
  {
   "cell_type": "code",
   "execution_count": 12,
   "metadata": {},
   "outputs": [],
   "source": [
    "urls = urls[0]"
   ]
  },
  {
   "cell_type": "code",
   "execution_count": 13,
   "metadata": {
    "collapsed": true
   },
   "outputs": [],
   "source": [
    "## to mongoDB\n",
    "conn = MongoClient('localhost', 27017)\n",
    "db = conn.dogForum\n",
    "collection = db.memberInfos\n",
    "\n",
    "def to_mongoDB(profile):\n",
    "    results = collection.insert(profile)"
   ]
  },
  {
   "cell_type": "code",
   "execution_count": null,
   "metadata": {
    "collapsed": true
   },
   "outputs": [],
   "source": []
  },
  {
   "cell_type": "markdown",
   "metadata": {},
   "source": [
    "## Function\n",
    "- store data into mongoDB"
   ]
  },
  {
   "cell_type": "code",
   "execution_count": null,
   "metadata": {
    "scrolled": true
   },
   "outputs": [
    {
     "name": "stderr",
     "output_type": "stream",
     "text": [
      "/home/parker/anaconda3/lib/python3.6/site-packages/ipykernel_launcher.py:7: DeprecationWarning: insert is deprecated. Use insert_one or insert_many instead.\n",
      "  import sys\n"
     ]
    }
   ],
   "source": [
    "for url in urls:\n",
    "    resp = requests.get(url, headers=headers)\n",
    "    soup = BeautifulSoup(resp.text, 'lxml')\n",
    "    infos = soup.select('ul.list_no_decoration li')\n",
    "    # all data store in here\n",
    "    memberDic = {}\n",
    "    try:\n",
    "        post = getMemberDic(url)\n",
    "        to_mongoDB(post)\n",
    "    except:\n",
    "        print(url + '  ERROR!!')"
   ]
  }
 ],
 "metadata": {
  "kernelspec": {
   "display_name": "Python 3",
   "language": "python",
   "name": "python3"
  },
  "language_info": {
   "codemirror_mode": {
    "name": "ipython",
    "version": 3
   },
   "file_extension": ".py",
   "mimetype": "text/x-python",
   "name": "python",
   "nbconvert_exporter": "python",
   "pygments_lexer": "ipython3",
   "version": "3.6.4"
  }
 },
 "nbformat": 4,
 "nbformat_minor": 2
}
